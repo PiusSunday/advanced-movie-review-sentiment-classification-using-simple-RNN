{
 "cells": [
  {
   "cell_type": "markdown",
   "metadata": {},
   "source": "## Simple RNN Model Architecture"
  },
  {
   "cell_type": "code",
   "metadata": {},
   "source": [
    "from keras.src.datasets import imdb\n",
    "from keras.src.layers import Dense, Embedding, SimpleRNN\n",
    "from keras.src.models import Sequential\n",
    "from keras.src.utils import pad_sequences"
   ],
   "outputs": [],
   "execution_count": null
  },
  {
   "cell_type": "code",
   "metadata": {},
   "source": [
    "## Load the imdb dataset\n",
    "\n",
    "max_features = 10000  ##vocabulary size\n",
    "(X_train, y_train), (X_test, y_test) = imdb.load_data(num_words = max_features)\n",
    "\n",
    "# Print the shape of the data\n",
    "print(f'Training data shape: {X_train.shape}, Training labels shape: {y_train.shape}')\n",
    "print(f'Testing data shape: {X_train.shape}, Testing labels shape: {y_test.shape}')"
   ],
   "outputs": [],
   "execution_count": null
  },
  {
   "cell_type": "code",
   "metadata": {},
   "source": "X_train[0], y_train[0]",
   "outputs": [],
   "execution_count": null
  },
  {
   "cell_type": "code",
   "metadata": {},
   "source": [
    "## Inspect a sample review and its label\n",
    "sample_review = X_train[0]\n",
    "sample_label = y_train[0]\n",
    "\n",
    "print(f\"Sample review (as integers):{sample_review}\")\n",
    "print(f'Sample label: {sample_label}')"
   ],
   "outputs": [],
   "execution_count": null
  },
  {
   "cell_type": "code",
   "metadata": {},
   "source": [
    "### Mapping of words index back to words(for understanding)\n",
    "word_index = imdb.get_word_index()\n",
    "\n",
    "#word_index\n",
    "reverse_word_index = {value: key for key, value in word_index.items()}\n",
    "reverse_word_index"
   ],
   "outputs": [],
   "execution_count": null
  },
  {
   "cell_type": "code",
   "metadata": {},
   "source": [
    "decoded_review = ' '.join([reverse_word_index.get(i - 3, '?') for i in sample_review])\n",
    "decoded_review"
   ],
   "outputs": [],
   "execution_count": null
  },
  {
   "cell_type": "code",
   "metadata": {},
   "source": [
    "max_len = 500\n",
    "\n",
    "X_train = pad_sequences(X_train, maxlen = max_len)\n",
    "X_test = pad_sequences(X_test, maxlen = max_len)\n",
    "X_train"
   ],
   "outputs": [],
   "execution_count": null
  },
  {
   "cell_type": "code",
   "metadata": {},
   "source": [
    "X_train[0]"
   ],
   "outputs": [],
   "execution_count": null
  },
  {
   "cell_type": "code",
   "metadata": {},
   "source": [
    "## Train Simple RNN\n",
    "model = Sequential()\n",
    "\n",
    "model.add(Embedding(max_features, 128, input_length = max_len))  ## Embedding Layers\n",
    "\n",
    "model.add(SimpleRNN(128, activation = 'relu'))\n",
    "model.add(Dense(1, activation = \"sigmoid\"))"
   ],
   "outputs": [],
   "execution_count": null
  },
  {
   "cell_type": "code",
   "metadata": {},
   "source": [
    "model.summary()"
   ],
   "outputs": [],
   "execution_count": null
  },
  {
   "cell_type": "code",
   "metadata": {},
   "source": "model.compile(optimizer = 'adam', loss = 'binary_crossentropy', metrics = ['accuracy'])",
   "outputs": [],
   "execution_count": null
  },
  {
   "cell_type": "code",
   "metadata": {},
   "source": [
    "from tensorflow.python.keras.callbacks import EarlyStopping\n",
    "\n",
    "early_stopping = EarlyStopping(monitor = 'val_loss', patience = 5, restore_best_weights = True)\n",
    "early_stopping"
   ],
   "outputs": [],
   "execution_count": null
  },
  {
   "cell_type": "code",
   "metadata": {},
   "source": [
    "## Train the model with early stopping\n",
    "history = model.fit(\n",
    "    X_train, y_train, epochs = 10, batch_size = 32,\n",
    "    validation_split = 0.2,\n",
    "    callbacks = [early_stopping]\n",
    ")"
   ],
   "outputs": [],
   "execution_count": null
  },
  {
   "metadata": {},
   "cell_type": "code",
   "outputs": [],
   "execution_count": null,
   "source": [
    "# Save encoders and scaler for later use\n",
    "\n",
    "import os\n",
    "\n",
    "# Define the project's root directory\n",
    "project_root = \"/Users/sunnythesage/PythonProjects/Data-Science-BootCamp/03-Deep-Learning-BootCamp/9 - End to End Deep Learning Project with Simple RNN/advanced-movie-review-sentiment-classification-using-simple-RNN\"\n",
    "\n",
    "# Change the current working directory to the project's root\n",
    "os.chdir(project_root)\n",
    "\n",
    "# --- Artifacts ---\n",
    "\n",
    "# Define the relative path to the artifacts directory\n",
    "artifacts_dir = os.path.join(os.getcwd(), 'artifacts')\n",
    "\n",
    "# Create the directory if it doesn't exist\n",
    "os.makedirs(artifacts_dir, exist_ok = True)\n",
    "\n",
    "print(artifacts_dir)"
   ]
  },
  {
   "cell_type": "code",
   "metadata": {},
   "source": [
    "## Save model file\n",
    "model.save(os.path.join(artifacts_dir, 'simple_rnn_model.keras'))"
   ],
   "outputs": [],
   "execution_count": null
  },
  {
   "metadata": {},
   "cell_type": "markdown",
   "source": ""
  }
 ],
 "metadata": {
  "kernelspec": {
   "display_name": "Python 3",
   "language": "python",
   "name": "python3"
  },
  "language_info": {
   "codemirror_mode": {
    "name": "ipython",
    "version": 3
   },
   "file_extension": ".py",
   "mimetype": "text/x-python",
   "name": "python",
   "nbconvert_exporter": "python",
   "pygments_lexer": "ipython3",
   "version": "3.11.0"
  }
 },
 "nbformat": 4,
 "nbformat_minor": 2
}
