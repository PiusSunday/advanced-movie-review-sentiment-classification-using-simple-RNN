{
 "cells": [
  {
   "metadata": {},
   "cell_type": "markdown",
   "source": "# Prediction"
  },
  {
   "cell_type": "code",
   "metadata": {},
   "source": [
    "import keras\n",
    "\n",
    "from keras.src.datasets import imdb\n",
    "from keras.src.utils import pad_sequences"
   ],
   "outputs": [],
   "execution_count": null
  },
  {
   "cell_type": "code",
   "metadata": {},
   "source": [
    "# Load the IMDB dataset word index\n",
    "word_index = imdb.get_word_index()\n",
    "reverse_word_index = {value: key for key, value in word_index.items()}"
   ],
   "outputs": [],
   "execution_count": null
  },
  {
   "metadata": {},
   "cell_type": "code",
   "outputs": [],
   "execution_count": null,
   "source": [
    "import os\n",
    "\n",
    "# Define the project's root directory\n",
    "project_root = \"/Users/sunnythesage/PythonProjects/Data-Science-BootCamp/03-Deep-Learning-BootCamp/9 - End to End Deep Learning Project with Simple RNN/advanced-movie-review-sentiment-classification-using-simple-RNN\"\n",
    "\n",
    "# Change the current working directory to the project's root\n",
    "os.chdir(project_root)\n",
    "\n",
    "# --- Artifacts ---\n",
    "\n",
    "# Define the relative path to the artifacts directory\n",
    "artifacts_dir = os.path.join(os.getcwd(), 'artifacts')\n",
    "\n",
    "# Create the directory if it doesn't exist\n",
    "os.makedirs(artifacts_dir, exist_ok = True)\n",
    "\n",
    "print(artifacts_dir)"
   ]
  },
  {
   "cell_type": "code",
   "metadata": {},
   "source": [
    "# Load the pre-trained model with ReLU activation\n",
    "model = keras.saving.load_model(os.path.join(artifacts_dir, 'simple_rnn_model.keras'))\n",
    "model.summary()"
   ],
   "outputs": [],
   "execution_count": null
  },
  {
   "cell_type": "code",
   "metadata": {},
   "source": [
    "model.get_weights()"
   ],
   "outputs": [],
   "execution_count": null
  },
  {
   "cell_type": "code",
   "metadata": {},
   "source": [
    "# Step 2: Helper Functions\n",
    "# Function to decode reviews\n",
    "def decode_review(encoded_review):\n",
    "    return ' '.join([reverse_word_index.get(i - 3, '?') for i in encoded_review])\n",
    "\n",
    "\n",
    "# Function to preprocess user input\n",
    "def preprocess_text(text):\n",
    "    words = text.lower().split()\n",
    "    encoded_review = [word_index.get(word, 2) + 3 for word in words]\n",
    "    padded_review = pad_sequences([encoded_review], maxlen = 500)\n",
    "    return padded_review"
   ],
   "outputs": [],
   "execution_count": null
  },
  {
   "cell_type": "code",
   "metadata": {},
   "source": [
    "### Prediction function\n",
    "\n",
    "def predict_sentiment(review):\n",
    "    preprocessed_input = preprocess_text(review)\n",
    "\n",
    "    prediction = model.predict(preprocessed_input)\n",
    "\n",
    "    sentiment = 'Positive' if prediction[0][0] > 0.5 else 'Negative'\n",
    "\n",
    "    return sentiment, prediction[0][0]"
   ],
   "outputs": [],
   "execution_count": null
  },
  {
   "cell_type": "code",
   "metadata": {},
   "source": [
    "# Step 4: User Input and Prediction\n",
    "# Example review for prediction\n",
    "example_review = \"This movie was fantastic! The acting was great and the plot was thrilling.\"\n",
    "\n",
    "sentiment, score = predict_sentiment(example_review)\n",
    "\n",
    "print(f'Review: {example_review}')\n",
    "print(f'Sentiment: {sentiment}')\n",
    "print(f'Prediction Score: {score}')"
   ],
   "outputs": [],
   "execution_count": null
  },
  {
   "metadata": {},
   "cell_type": "markdown",
   "source": ""
  }
 ],
 "metadata": {
  "kernelspec": {
   "display_name": "Python 3",
   "language": "python",
   "name": "python3"
  },
  "language_info": {
   "codemirror_mode": {
    "name": "ipython",
    "version": 3
   },
   "file_extension": ".py",
   "mimetype": "text/x-python",
   "name": "python",
   "nbconvert_exporter": "python",
   "pygments_lexer": "ipython3",
   "version": "3.11.0"
  }
 },
 "nbformat": 4,
 "nbformat_minor": 2
}
