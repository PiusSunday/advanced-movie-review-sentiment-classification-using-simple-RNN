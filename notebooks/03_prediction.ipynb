{
 "cells": [
  {
   "metadata": {},
   "cell_type": "markdown",
   "source": "# Prediction"
  },
  {
   "cell_type": "code",
   "metadata": {
    "ExecuteTime": {
     "end_time": "2025-03-30T04:53:28.469869Z",
     "start_time": "2025-03-30T04:53:23.790717Z"
    }
   },
   "source": [
    "import keras\n",
    "\n",
    "from keras.src.datasets import imdb\n",
    "from keras.src.utils import pad_sequences"
   ],
   "outputs": [],
   "execution_count": 1
  },
  {
   "cell_type": "code",
   "metadata": {
    "ExecuteTime": {
     "end_time": "2025-03-30T04:53:29.648102Z",
     "start_time": "2025-03-30T04:53:28.491949Z"
    }
   },
   "source": [
    "# Load the IMDB dataset word index\n",
    "word_index = imdb.get_word_index()\n",
    "reverse_word_index = {value: key for key, value in word_index.items()}"
   ],
   "outputs": [
    {
     "name": "stdout",
     "output_type": "stream",
     "text": [
      "Downloading data from https://storage.googleapis.com/tensorflow/tf-keras-datasets/imdb_word_index.json\n",
      "\u001B[1m1641221/1641221\u001B[0m \u001B[32m━━━━━━━━━━━━━━━━━━━━\u001B[0m\u001B[37m\u001B[0m \u001B[1m1s\u001B[0m 0us/step\n"
     ]
    }
   ],
   "execution_count": 2
  },
  {
   "metadata": {
    "ExecuteTime": {
     "end_time": "2025-03-30T04:53:29.853297Z",
     "start_time": "2025-03-30T04:53:29.850622Z"
    }
   },
   "cell_type": "code",
   "source": [
    "import os\n",
    "\n",
    "# Define the project's root directory\n",
    "project_root = \"/Users/sunnythesage/PythonProjects/Data-Science-BootCamp/03-Deep-Learning-BootCamp/9 - End to End Deep Learning Project with Simple RNN/advanced-movie-review-sentiment-classification-using-simple-RNN\"\n",
    "\n",
    "# Change the current working directory to the project's root\n",
    "os.chdir(project_root)\n",
    "\n",
    "# --- Artifacts ---\n",
    "\n",
    "# Define the relative path to the artifacts directory\n",
    "artifacts_dir = os.path.join(os.getcwd(), 'artifacts')\n",
    "\n",
    "# Create the directory if it doesn't exist\n",
    "os.makedirs(artifacts_dir, exist_ok = True)\n",
    "\n",
    "print(artifacts_dir)"
   ],
   "outputs": [
    {
     "name": "stdout",
     "output_type": "stream",
     "text": [
      "/Users/sunnythesage/PythonProjects/Data-Science-BootCamp/03-Deep-Learning-BootCamp/9 - End to End Deep Learning Project with Simple RNN/advanced-movie-review-sentiment-classification-using-simple-RNN/artifacts\n"
     ]
    }
   ],
   "execution_count": 3
  },
  {
   "cell_type": "code",
   "metadata": {
    "ExecuteTime": {
     "end_time": "2025-03-30T04:53:30.025439Z",
     "start_time": "2025-03-30T04:53:29.913985Z"
    }
   },
   "source": [
    "# Load the pre-trained model with ReLU activation\n",
    "model = keras.saving.load_model(os.path.join(artifacts_dir, 'simple_rnn_model.keras'))\n",
    "model.summary()"
   ],
   "outputs": [
    {
     "data": {
      "text/plain": [
       "\u001B[1mModel: \"sequential\"\u001B[0m\n"
      ],
      "text/html": [
       "<pre style=\"white-space:pre;overflow-x:auto;line-height:normal;font-family:Menlo,'DejaVu Sans Mono',consolas,'Courier New',monospace\"><span style=\"font-weight: bold\">Model: \"sequential\"</span>\n",
       "</pre>\n"
      ]
     },
     "metadata": {},
     "output_type": "display_data"
    },
    {
     "data": {
      "text/plain": [
       "┏━━━━━━━━━━━━━━━━━━━━━━━━━━━━━━━━━┳━━━━━━━━━━━━━━━━━━━━━━━━┳━━━━━━━━━━━━━━━┓\n",
       "┃\u001B[1m \u001B[0m\u001B[1mLayer (type)                   \u001B[0m\u001B[1m \u001B[0m┃\u001B[1m \u001B[0m\u001B[1mOutput Shape          \u001B[0m\u001B[1m \u001B[0m┃\u001B[1m \u001B[0m\u001B[1m      Param #\u001B[0m\u001B[1m \u001B[0m┃\n",
       "┡━━━━━━━━━━━━━━━━━━━━━━━━━━━━━━━━━╇━━━━━━━━━━━━━━━━━━━━━━━━╇━━━━━━━━━━━━━━━┩\n",
       "│ embedding (\u001B[38;5;33mEmbedding\u001B[0m)           │ (\u001B[38;5;34m32\u001B[0m, \u001B[38;5;34m500\u001B[0m, \u001B[38;5;34m128\u001B[0m)         │     \u001B[38;5;34m1,280,000\u001B[0m │\n",
       "├─────────────────────────────────┼────────────────────────┼───────────────┤\n",
       "│ simple_rnn (\u001B[38;5;33mSimpleRNN\u001B[0m)          │ (\u001B[38;5;34m32\u001B[0m, \u001B[38;5;34m128\u001B[0m)              │        \u001B[38;5;34m32,896\u001B[0m │\n",
       "├─────────────────────────────────┼────────────────────────┼───────────────┤\n",
       "│ dense (\u001B[38;5;33mDense\u001B[0m)                   │ (\u001B[38;5;34m32\u001B[0m, \u001B[38;5;34m1\u001B[0m)                │           \u001B[38;5;34m129\u001B[0m │\n",
       "└─────────────────────────────────┴────────────────────────┴───────────────┘\n"
      ],
      "text/html": [
       "<pre style=\"white-space:pre;overflow-x:auto;line-height:normal;font-family:Menlo,'DejaVu Sans Mono',consolas,'Courier New',monospace\">┏━━━━━━━━━━━━━━━━━━━━━━━━━━━━━━━━━┳━━━━━━━━━━━━━━━━━━━━━━━━┳━━━━━━━━━━━━━━━┓\n",
       "┃<span style=\"font-weight: bold\"> Layer (type)                    </span>┃<span style=\"font-weight: bold\"> Output Shape           </span>┃<span style=\"font-weight: bold\">       Param # </span>┃\n",
       "┡━━━━━━━━━━━━━━━━━━━━━━━━━━━━━━━━━╇━━━━━━━━━━━━━━━━━━━━━━━━╇━━━━━━━━━━━━━━━┩\n",
       "│ embedding (<span style=\"color: #0087ff; text-decoration-color: #0087ff\">Embedding</span>)           │ (<span style=\"color: #00af00; text-decoration-color: #00af00\">32</span>, <span style=\"color: #00af00; text-decoration-color: #00af00\">500</span>, <span style=\"color: #00af00; text-decoration-color: #00af00\">128</span>)         │     <span style=\"color: #00af00; text-decoration-color: #00af00\">1,280,000</span> │\n",
       "├─────────────────────────────────┼────────────────────────┼───────────────┤\n",
       "│ simple_rnn (<span style=\"color: #0087ff; text-decoration-color: #0087ff\">SimpleRNN</span>)          │ (<span style=\"color: #00af00; text-decoration-color: #00af00\">32</span>, <span style=\"color: #00af00; text-decoration-color: #00af00\">128</span>)              │        <span style=\"color: #00af00; text-decoration-color: #00af00\">32,896</span> │\n",
       "├─────────────────────────────────┼────────────────────────┼───────────────┤\n",
       "│ dense (<span style=\"color: #0087ff; text-decoration-color: #0087ff\">Dense</span>)                   │ (<span style=\"color: #00af00; text-decoration-color: #00af00\">32</span>, <span style=\"color: #00af00; text-decoration-color: #00af00\">1</span>)                │           <span style=\"color: #00af00; text-decoration-color: #00af00\">129</span> │\n",
       "└─────────────────────────────────┴────────────────────────┴───────────────┘\n",
       "</pre>\n"
      ]
     },
     "metadata": {},
     "output_type": "display_data"
    },
    {
     "data": {
      "text/plain": [
       "\u001B[1m Total params: \u001B[0m\u001B[38;5;34m3,939,077\u001B[0m (15.03 MB)\n"
      ],
      "text/html": [
       "<pre style=\"white-space:pre;overflow-x:auto;line-height:normal;font-family:Menlo,'DejaVu Sans Mono',consolas,'Courier New',monospace\"><span style=\"font-weight: bold\"> Total params: </span><span style=\"color: #00af00; text-decoration-color: #00af00\">3,939,077</span> (15.03 MB)\n",
       "</pre>\n"
      ]
     },
     "metadata": {},
     "output_type": "display_data"
    },
    {
     "data": {
      "text/plain": [
       "\u001B[1m Trainable params: \u001B[0m\u001B[38;5;34m1,313,025\u001B[0m (5.01 MB)\n"
      ],
      "text/html": [
       "<pre style=\"white-space:pre;overflow-x:auto;line-height:normal;font-family:Menlo,'DejaVu Sans Mono',consolas,'Courier New',monospace\"><span style=\"font-weight: bold\"> Trainable params: </span><span style=\"color: #00af00; text-decoration-color: #00af00\">1,313,025</span> (5.01 MB)\n",
       "</pre>\n"
      ]
     },
     "metadata": {},
     "output_type": "display_data"
    },
    {
     "data": {
      "text/plain": [
       "\u001B[1m Non-trainable params: \u001B[0m\u001B[38;5;34m0\u001B[0m (0.00 B)\n"
      ],
      "text/html": [
       "<pre style=\"white-space:pre;overflow-x:auto;line-height:normal;font-family:Menlo,'DejaVu Sans Mono',consolas,'Courier New',monospace\"><span style=\"font-weight: bold\"> Non-trainable params: </span><span style=\"color: #00af00; text-decoration-color: #00af00\">0</span> (0.00 B)\n",
       "</pre>\n"
      ]
     },
     "metadata": {},
     "output_type": "display_data"
    },
    {
     "data": {
      "text/plain": [
       "\u001B[1m Optimizer params: \u001B[0m\u001B[38;5;34m2,626,052\u001B[0m (10.02 MB)\n"
      ],
      "text/html": [
       "<pre style=\"white-space:pre;overflow-x:auto;line-height:normal;font-family:Menlo,'DejaVu Sans Mono',consolas,'Courier New',monospace\"><span style=\"font-weight: bold\"> Optimizer params: </span><span style=\"color: #00af00; text-decoration-color: #00af00\">2,626,052</span> (10.02 MB)\n",
       "</pre>\n"
      ]
     },
     "metadata": {},
     "output_type": "display_data"
    }
   ],
   "execution_count": 4
  },
  {
   "cell_type": "code",
   "metadata": {
    "ExecuteTime": {
     "end_time": "2025-03-30T04:53:30.076803Z",
     "start_time": "2025-03-30T04:53:30.067575Z"
    }
   },
   "source": [
    "model.get_weights()"
   ],
   "outputs": [
    {
     "data": {
      "text/plain": [
       "[array([[-0.08189625, -0.204487  ,  0.19876   , ...,  0.34923136,\n",
       "          0.8692396 ,  0.311327  ],\n",
       "        [-0.00406492,  0.00282063,  0.03091981, ...,  0.07528383,\n",
       "          0.11850425,  0.02046627],\n",
       "        [-0.02540727, -0.04942739,  0.0394331 , ...,  0.03192874,\n",
       "         -0.01428324,  0.07960244],\n",
       "        ...,\n",
       "        [-0.02504985, -0.04680655, -0.05205947, ..., -0.01288566,\n",
       "          0.02278215,  0.04601157],\n",
       "        [-0.07116963, -0.02828263,  0.05821379, ..., -0.03970763,\n",
       "         -0.08908243, -0.1079277 ],\n",
       "        [ 0.03923101,  0.03171317,  0.02810308, ...,  0.03594655,\n",
       "         -0.00457788,  0.02620614]], dtype=float32),\n",
       " array([[-0.18064305,  0.12283199, -0.06474736, ..., -0.11029175,\n",
       "         -0.02775577,  0.06966216],\n",
       "        [-0.01793549,  0.08340391, -0.00827411, ...,  0.11528377,\n",
       "          0.01315325, -0.09434914],\n",
       "        [ 0.14202009,  0.10938536, -0.04830555, ...,  0.06615327,\n",
       "         -0.02757022,  0.13244942],\n",
       "        ...,\n",
       "        [-0.06963211, -0.09121042,  0.09943505, ...,  0.05020671,\n",
       "         -0.17387089,  0.15051384],\n",
       "        [-0.01367919,  0.00975691, -0.05764653, ...,  0.09560774,\n",
       "         -0.15036154,  0.08824795],\n",
       "        [-0.05709228, -0.11306671, -0.04107275, ...,  0.02123662,\n",
       "          0.0285018 ,  0.06366891]], dtype=float32),\n",
       " array([[ 1.5035701e-02, -6.0581755e-02,  1.1010927e-01, ...,\n",
       "          1.5738895e-02, -2.6854232e-02,  9.5387369e-02],\n",
       "        [ 1.3442761e-01,  6.6363797e-02, -6.1187439e-02, ...,\n",
       "         -4.9157361e-03,  1.7790850e-01,  1.7152999e-01],\n",
       "        [-1.6331172e-02,  9.9233873e-02,  3.2036442e-02, ...,\n",
       "         -8.1770860e-02,  4.4768710e-02, -1.5026795e-04],\n",
       "        ...,\n",
       "        [ 1.0078444e-01, -3.4751728e-02,  9.0820892e-03, ...,\n",
       "         -5.6617230e-02, -1.3333496e-01,  2.4097789e-02],\n",
       "        [-8.5785463e-02,  1.4518556e-02, -1.7841373e-01, ...,\n",
       "         -4.3438915e-02, -8.8434480e-02,  1.5916338e-02],\n",
       "        [ 3.4551386e-02, -7.4170396e-02, -3.5823672e-03, ...,\n",
       "          6.9030397e-02, -7.3927939e-02,  6.8723351e-02]], dtype=float32),\n",
       " array([-0.01423167, -0.02657414, -0.02576025, -0.00885485, -0.01012055,\n",
       "        -0.00543974,  0.00452648, -0.00631933, -0.01573186, -0.0040499 ,\n",
       "         0.00240123, -0.00989285,  0.00069377, -0.02219061,  0.00949418,\n",
       "        -0.00746558,  0.01851171, -0.00368025,  0.0160195 , -0.029458  ,\n",
       "        -0.00637354, -0.0054972 , -0.00476725, -0.01607143,  0.01910573,\n",
       "         0.00622402, -0.02277476, -0.00711882,  0.00049034, -0.01092999,\n",
       "         0.0119099 , -0.00079466,  0.01748338,  0.02776889, -0.00713307,\n",
       "        -0.00855249, -0.00937129, -0.02527842, -0.00930211, -0.00230439,\n",
       "         0.00712256,  0.00270535,  0.00806346, -0.00951781, -0.00242229,\n",
       "        -0.0020395 ,  0.02757402, -0.01028636,  0.01268743,  0.01748029,\n",
       "        -0.01472432, -0.0053366 , -0.00299177, -0.01883379, -0.00744865,\n",
       "         0.00362571,  0.01651836, -0.01097847, -0.0041817 ,  0.00082553,\n",
       "        -0.01050274,  0.01261599, -0.02455538,  0.02866348, -0.01039628,\n",
       "         0.00564145,  0.01538421, -0.00604107, -0.01900287,  0.00304611,\n",
       "         0.00239135,  0.01869834,  0.01830679,  0.01341235,  0.01449177,\n",
       "        -0.020616  , -0.02165139, -0.00881873,  0.01478555,  0.02247323,\n",
       "        -0.0108261 , -0.01536146,  0.00411229, -0.0032984 , -0.01694246,\n",
       "         0.00730263, -0.0251867 ,  0.03816884, -0.00777676, -0.01504497,\n",
       "        -0.01104531, -0.01421629,  0.01909539, -0.00598683,  0.02028788,\n",
       "        -0.01724829, -0.01124014, -0.01156456, -0.00754177, -0.01191219,\n",
       "        -0.01003903, -0.02802765, -0.02548333, -0.0016993 ,  0.02149545,\n",
       "        -0.00261744,  0.00421443, -0.02391058, -0.0341272 , -0.01471265,\n",
       "        -0.02511053, -0.01220532,  0.02599415,  0.01445601,  0.01456135,\n",
       "        -0.00309805, -0.00191092, -0.0118373 , -0.00381527,  0.00213207,\n",
       "        -0.01171555, -0.01224159, -0.00169567, -0.01258294, -0.01549357,\n",
       "         0.01464235, -0.03557881, -0.00698038], dtype=float32),\n",
       " array([[-0.1726659 ],\n",
       "        [-0.12712735],\n",
       "        [-0.09247494],\n",
       "        [-0.07179806],\n",
       "        [ 0.17505133],\n",
       "        [-0.05336989],\n",
       "        [ 0.2361336 ],\n",
       "        [-0.10908777],\n",
       "        [ 0.12256686],\n",
       "        [-0.09840887],\n",
       "        [-0.1650997 ],\n",
       "        [ 0.13483888],\n",
       "        [ 0.16839163],\n",
       "        [ 0.16673818],\n",
       "        [ 0.19752306],\n",
       "        [-0.0258449 ],\n",
       "        [-0.03296861],\n",
       "        [ 0.08342344],\n",
       "        [-0.04157886],\n",
       "        [ 0.48793706],\n",
       "        [ 0.11947883],\n",
       "        [-0.03580657],\n",
       "        [ 0.16041337],\n",
       "        [ 0.31065562],\n",
       "        [ 0.04147429],\n",
       "        [ 0.00583737],\n",
       "        [ 0.11024752],\n",
       "        [ 0.14153469],\n",
       "        [ 0.2126552 ],\n",
       "        [ 0.14191535],\n",
       "        [ 0.24903055],\n",
       "        [-0.24822204],\n",
       "        [-0.01640964],\n",
       "        [-0.17259069],\n",
       "        [ 0.1452383 ],\n",
       "        [ 0.16916546],\n",
       "        [ 0.08506538],\n",
       "        [-0.09923176],\n",
       "        [ 0.01931066],\n",
       "        [ 0.12998451],\n",
       "        [ 0.24018079],\n",
       "        [ 0.23507291],\n",
       "        [ 0.04675339],\n",
       "        [ 0.21652964],\n",
       "        [ 0.07842792],\n",
       "        [ 0.15235178],\n",
       "        [-0.04566004],\n",
       "        [ 0.05926292],\n",
       "        [ 0.15428229],\n",
       "        [-0.21203391],\n",
       "        [ 0.19102378],\n",
       "        [ 0.1337417 ],\n",
       "        [ 0.18931298],\n",
       "        [-0.09087528],\n",
       "        [ 0.26684865],\n",
       "        [ 0.04230794],\n",
       "        [-0.01680909],\n",
       "        [-0.0596395 ],\n",
       "        [ 0.16015172],\n",
       "        [ 0.5575598 ],\n",
       "        [ 0.14619029],\n",
       "        [-0.0401823 ],\n",
       "        [-0.14791276],\n",
       "        [-0.00166882],\n",
       "        [ 0.27894565],\n",
       "        [-0.16899046],\n",
       "        [ 0.0892268 ],\n",
       "        [ 0.03908577],\n",
       "        [-0.07608321],\n",
       "        [ 0.04155368],\n",
       "        [ 0.30907908],\n",
       "        [ 0.01940028],\n",
       "        [ 0.35934746],\n",
       "        [-0.17756896],\n",
       "        [-0.2389055 ],\n",
       "        [-0.16158223],\n",
       "        [ 0.00515913],\n",
       "        [ 0.18459208],\n",
       "        [-0.08541509],\n",
       "        [-0.18691722],\n",
       "        [ 0.22040696],\n",
       "        [ 0.09196857],\n",
       "        [-0.00623039],\n",
       "        [-0.18038897],\n",
       "        [ 0.00135524],\n",
       "        [ 0.18129788],\n",
       "        [ 0.16926798],\n",
       "        [ 0.22298998],\n",
       "        [ 0.34595802],\n",
       "        [ 0.01803492],\n",
       "        [ 0.17387559],\n",
       "        [-0.13426436],\n",
       "        [-0.0926034 ],\n",
       "        [ 0.14699598],\n",
       "        [ 0.11103585],\n",
       "        [ 0.0155761 ],\n",
       "        [-0.22177203],\n",
       "        [-0.07691079],\n",
       "        [ 0.41200158],\n",
       "        [ 0.19655223],\n",
       "        [ 0.06561016],\n",
       "        [ 0.03303122],\n",
       "        [ 0.17065057],\n",
       "        [ 0.08308217],\n",
       "        [-0.02738995],\n",
       "        [-0.04582047],\n",
       "        [ 0.16808589],\n",
       "        [-0.10048577],\n",
       "        [-0.16943976],\n",
       "        [ 0.16252452],\n",
       "        [ 0.16241626],\n",
       "        [-0.03486602],\n",
       "        [-0.02640737],\n",
       "        [-0.11616153],\n",
       "        [-0.18935542],\n",
       "        [-0.06564186],\n",
       "        [ 0.2776315 ],\n",
       "        [ 0.1964446 ],\n",
       "        [ 0.14786936],\n",
       "        [ 0.1392552 ],\n",
       "        [-0.2820441 ],\n",
       "        [ 0.07101113],\n",
       "        [ 0.40885946],\n",
       "        [-0.09882312],\n",
       "        [-0.05482147],\n",
       "        [-0.18972999],\n",
       "        [ 0.38868496],\n",
       "        [-0.23145454]], dtype=float32),\n",
       " array([0.31222725], dtype=float32)]"
      ]
     },
     "execution_count": 5,
     "metadata": {},
     "output_type": "execute_result"
    }
   ],
   "execution_count": 5
  },
  {
   "cell_type": "code",
   "metadata": {
    "ExecuteTime": {
     "end_time": "2025-03-30T04:53:30.117849Z",
     "start_time": "2025-03-30T04:53:30.115552Z"
    }
   },
   "source": [
    "# Step 2: Helper Functions\n",
    "# Function to decode reviews\n",
    "def decode_review(encoded_review):\n",
    "    return ' '.join([reverse_word_index.get(i - 3, '?') for i in encoded_review])\n",
    "\n",
    "\n",
    "# Function to preprocess user input\n",
    "def preprocess_text(text):\n",
    "    words = text.lower().split()\n",
    "    encoded_review = [word_index.get(word, 2) + 3 for word in words]\n",
    "    padded_review = pad_sequences([encoded_review], maxlen = 500)\n",
    "    return padded_review"
   ],
   "outputs": [],
   "execution_count": 6
  },
  {
   "cell_type": "code",
   "metadata": {
    "ExecuteTime": {
     "end_time": "2025-03-30T04:53:30.157881Z",
     "start_time": "2025-03-30T04:53:30.155391Z"
    }
   },
   "source": [
    "### Prediction function\n",
    "\n",
    "def predict_sentiment(review):\n",
    "    preprocessed_input = preprocess_text(review)\n",
    "\n",
    "    prediction = model.predict(preprocessed_input)\n",
    "\n",
    "    sentiment = 'Positive' if prediction[0][0] > 0.5 else 'Negative'\n",
    "\n",
    "    return sentiment, prediction[0][0]"
   ],
   "outputs": [],
   "execution_count": 7
  },
  {
   "metadata": {
    "ExecuteTime": {
     "end_time": "2025-03-30T04:58:18.749638Z",
     "start_time": "2025-03-30T04:58:18.687109Z"
    }
   },
   "cell_type": "code",
   "source": [
    "import os\n",
    "\n",
    "# Suppress TensorFlow logging (method 1 - environment variable)\n",
    "os.environ['TF_CPP_MIN_LOG_LEVEL'] = '3'  # 0: all, 1: info, 2: warning, 3: error\n",
    "\n",
    "# Or, suppress TensorFlow logging (method 2 - logger)\n",
    "# tf.get_logger().setLevel('ERROR')\n",
    "\n",
    "# Your model prediction code here...\n",
    "# Step 4: User Input and Prediction\n",
    "# Example review for prediction\n",
    "example_review = \"This movie was fantastic! The acting was great and the plot was thrilling.\"\n",
    "\n",
    "sentiment, score = predict_sentiment(example_review)\n",
    "\n",
    "print(f'Review: {example_review}')\n",
    "print(f'Sentiment: {sentiment}')\n",
    "print(f'Prediction Score: {score}')"
   ],
   "outputs": [
    {
     "name": "stdout",
     "output_type": "stream",
     "text": [
      "\u001B[1m1/1\u001B[0m \u001B[32m━━━━━━━━━━━━━━━━━━━━\u001B[0m\u001B[37m\u001B[0m \u001B[1m0s\u001B[0m 29ms/step\n",
      "Review: This movie was fantastic! The acting was great and the plot was thrilling.\n",
      "Sentiment: Positive\n",
      "Prediction Score: 0.5746443867683411\n"
     ]
    }
   ],
   "execution_count": 12
  },
  {
   "metadata": {},
   "cell_type": "markdown",
   "source": ""
  }
 ],
 "metadata": {
  "kernelspec": {
   "display_name": "Python 3",
   "language": "python",
   "name": "python3"
  },
  "language_info": {
   "codemirror_mode": {
    "name": "ipython",
    "version": 3
   },
   "file_extension": ".py",
   "mimetype": "text/x-python",
   "name": "python",
   "nbconvert_exporter": "python",
   "pygments_lexer": "ipython3",
   "version": "3.11.0"
  }
 },
 "nbformat": 4,
 "nbformat_minor": 2
}
